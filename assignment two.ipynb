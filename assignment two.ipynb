{
 "cells": [
  {
   "cell_type": "markdown",
   "metadata": {},
   "source": [
    "1. Which of the following terms are related to dictionaries? \n",
    "a. value \n",
    "b. item \n",
    "c. index \n",
    "d. key\n"
   ]
  },
  {
   "cell_type": "code",
   "execution_count": null,
   "metadata": {},
   "outputs": [],
   "source": [
    " a and b and d"
   ]
  },
  {
   "cell_type": "code",
   "execution_count": null,
   "metadata": {},
   "outputs": [],
   "source": [
    "2. Just like lists, + operator is used to extend dictionaries? \n",
    "a. True\n",
    "b. False "
   ]
  },
  {
   "cell_type": "markdown",
   "metadata": {},
   "source": [
    "b"
   ]
  },
  {
   "cell_type": "code",
   "execution_count": null,
   "metadata": {},
   "outputs": [],
   "source": [
    "3. To access i2. Just like lists, + operator is used to extend dictionaries? \n",
    "a. True\n",
    "\n",
    "b. False "
   ]
  },
  {
   "cell_type": "raw",
   "metadata": {},
   "source": [
    "b"
   ]
  },
  {
   "cell_type": "code",
   "execution_count": null,
   "metadata": {},
   "outputs": [],
   "source": [
    "4. When we use [] to access the value from a dictionary which does not exist in that dictionary….? \n",
    "a. Value within [] is added to the dictionary\n",
    "b. Value None is returned \n",
    "c. New dictionary is created \n",
    "d. None of above "
   ]
  },
  {
   "cell_type": "markdown",
   "metadata": {},
   "source": [
    "d"
   ]
  },
  {
   "cell_type": "code",
   "execution_count": null,
   "metadata": {},
   "outputs": [],
   "source": [
    "5. What does return the pop method of a dictionary?\n",
    "a. list\n",
    "b. tuple containing the pair of last item of the dictionary\n",
    "c. dictionary\n",
    "d. value of the key, if it exists in the dictionary "
   ]
  },
  {
   "cell_type": "raw",
   "metadata": {},
   "source": [
    "c"
   ]
  },
  {
   "cell_type": "code",
   "execution_count": null,
   "metadata": {},
   "outputs": [],
   "source": [
    "6. What does return popitem method return?\n",
    "a. dictionary\n",
    "b. tupple containing the pair of last item of the dictionary \n",
    "c. list \n",
    "d. value of key, if it exists in the dictionary "
   ]
  },
  {
   "cell_type": "raw",
   "metadata": {},
   "source": [
    "b"
   ]
  },
  {
   "cell_type": "code",
   "execution_count": null,
   "metadata": {},
   "outputs": [],
   "source": [
    "7. Which of the following 2 methods can be used to iterate through the items of a dictionary?\n",
    "a. items()\n",
    "b. values()\n",
    "c. indexes()\n",
    "d. keys()"
   ]
  },
  {
   "cell_type": "markdown",
   "metadata": {},
   "source": [
    "a and d"
   ]
  },
  {
   "cell_type": "code",
   "execution_count": null,
   "metadata": {},
   "outputs": [],
   "source": [
    "8. Which one of the following is used to enclose a dictionary? \n",
    "a. () parenthesis\n",
    "b. {} curly brackets \n",
    "c. [] square brackets\n",
    "d. “” quotation marks "
   ]
  },
  {
   "cell_type": "markdown",
   "metadata": {},
   "source": [
    "b"
   ]
  },
  {
   "cell_type": "code",
   "execution_count": null,
   "metadata": {},
   "outputs": [],
   "source": [
    "9.  Write Python Program add key-value pair in dictionary and check if a Given Key or Value \n",
    "or Both Exists in a Dictionary or Not. "
   ]
  },
  {
   "cell_type": "code",
   "execution_count": null,
   "metadata": {},
   "outputs": [],
   "source": [
    "customer_29876 = {\"first name\": \"David\", \"last name\": \"Elliott\", \"address\": \"4803 Wellesley St.\"} \n",
    "keys = input(\"enter the key\")\n",
    "if keys == customer_29876.keys():\n",
    "    print(\"Exists in a Dictionary\")\n",
    "else:\n",
    "    print(\" not Exists in a Dictionary\")"
   ]
  },
  {
   "cell_type": "code",
   "execution_count": null,
   "metadata": {},
   "outputs": [],
   "source": []
  },
  {
   "cell_type": "code",
   "execution_count": null,
   "metadata": {},
   "outputs": [],
   "source": []
  }
 ],
 "metadata": {
  "kernelspec": {
   "display_name": "Python 3",
   "language": "python",
   "name": "python3"
  },
  "language_info": {
   "codemirror_mode": {
    "name": "ipython",
    "version": 3
   },
   "file_extension": ".py",
   "mimetype": "text/x-python",
   "name": "python",
   "nbconvert_exporter": "python",
   "pygments_lexer": "ipython3",
   "version": "3.7.4"
  }
 },
 "nbformat": 4,
 "nbformat_minor": 2
}
